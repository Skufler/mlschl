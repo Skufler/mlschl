{
 "cells": [
  {
   "cell_type": "markdown",
   "metadata": {},
   "source": [
    "# Школа машинного обучения\n",
    "\n",
    "<a href=\"https://mipt.ru/science/labs/laboratoriya-neyronnykh-sistem-i-glubokogo-obucheniya/\"><img align=\"right\" src=\"https://avatars1.githubusercontent.com/u/29918795?v=4&s=200\" alt=\"DeepHackLab\" style=\"position:relative;top:-40px;right:10px;height:100px;\" /></a>\n",
    "\n",
    "\n",
    "\n",
    "### Физтех-Школа Прикладной математики и информатики МФТИ \n",
    "### Лаборатория нейронных сетей и глубокого обучения (DeepHackLab)"
   ]
  },
  {
   "cell_type": "markdown",
   "metadata": {},
   "source": [
    "## Занятие 1. Библиотека Numpy"
   ]
  },
  {
   "cell_type": "markdown",
   "metadata": {},
   "source": [
    "*Зуева Надежда (ФИВТ 3 курс)*"
   ]
  },
  {
   "cell_type": "markdown",
   "metadata": {},
   "source": [
    "#### При подготовке ноутбука использовался сайт: http://www.inp.nsk.su/~grozin/python/"
   ]
  },
  {
   "cell_type": "markdown",
   "metadata": {},
   "source": [
    "<img align=center src=\"http://www.wizdomhub.com/wp-content/uploads/2017/08/numpy_project_page.jpg\" style=\"height:160px;\" />"
   ]
  },
  {
   "cell_type": "markdown",
   "metadata": {},
   "source": [
    "---"
   ]
  },
  {
   "cell_type": "markdown",
   "metadata": {},
   "source": [
    "Пакет `numpy`(НамПай) предоставляет $n$-мерные однородные массивы (все элементы одного типа); в них нельзя вставить или удалить элемент в произвольном месте. В `numpy` реализовано много операций над массивами в целом. Если задачу можно решить, произведя некоторую последовательность операций над массивами, то это будет столь же эффективно, как в `C` или `matlab` - львиная доля времени тратится в библиотечных функциях, написанных на `C`."
   ]
  },
  {
   "cell_type": "markdown",
   "metadata": {},
   "source": [
    "## Одномерные массивы"
   ]
  },
  {
   "cell_type": "code",
   "execution_count": 3,
   "metadata": {},
   "outputs": [],
   "source": [
    "from numpy import (array,zeros,ones,arange,linspace,logspace,\n",
    "                   float64,int64,sin,cos,pi,exp,log,sqrt,abs,\n",
    "                   nan,inf,any,all,sort,hstack,vstack,hsplit,\n",
    "                   delete,insert,append,eye,fromfunction,\n",
    "                   trace,diag,average,std,outer,meshgrid)"
   ]
  },
  {
   "cell_type": "markdown",
   "metadata": {},
   "source": [
    "Можно преобразовать список в массив."
   ]
  },
  {
   "cell_type": "code",
   "execution_count": 3,
   "metadata": {},
   "outputs": [
    {
     "name": "stdout",
     "output_type": "stream",
     "text": [
      "2\n",
      "2\n",
      "10\n",
      "[[0.05075647 0.00195813 0.01410294 0.26975022 0.75277101 0.2794266\n",
      "  0.39308251 0.92306973 0.68620842 0.50275783]\n",
      " [0.65092844 0.06825514 0.23741156 0.28960573 0.01453233 0.13906361\n",
      "  0.39238428 0.48158661 0.64245213 0.74213098]\n",
      " [0.485727   0.15903526 0.88235967 0.45179801 0.29256412 0.91401946\n",
      "  0.8058255  0.61227043 0.29463403 0.79319683]\n",
      " [0.65476265 0.1309368  0.80317521 0.20525378 0.2374092  0.61050703\n",
      "  0.99070789 0.96740936 0.63869263 0.48805585]\n",
      " [0.54182309 0.86045089 0.27668934 0.3884701  0.70933475 0.56338631\n",
      "  0.11242421 0.96441535 0.35238919 0.7710013 ]\n",
      " [0.65472004 0.77927461 0.32166804 0.5135639  0.67155875 0.40037578\n",
      "  0.88202916 0.47308588 0.81628514 0.2378103 ]\n",
      " [0.09060219 0.32712498 0.06176476 0.19774282 0.0732566  0.35700622\n",
      "  0.7088434  0.32967084 0.82042921 0.02376501]\n",
      " [0.01336193 0.38280717 0.82170335 0.45877275 0.96020613 0.62561396\n",
      "  0.53071321 0.10754934 0.47614723 0.18475257]\n",
      " [0.17721022 0.91996342 0.93783339 0.17549781 0.03679425 0.51522772\n",
      "  0.31460187 0.89210388 0.25383844 0.20487767]\n",
      " [0.50715697 0.26068526 0.61366163 0.66426947 0.37926605 0.9479718\n",
      "  0.27427839 0.60041154 0.41617583 0.9558892 ]]\n",
      "[[0.67887112 0.16425951 0.40756388 0.47965739 0.11362003 0.16566053\n",
      "  0.22862272 0.07308222 0.7800001  0.60489545]\n",
      " [0.74203419 0.90764228 0.51240177 0.64965786 0.5631454  0.52602573\n",
      "  0.80224402 0.19356597 0.20744185 0.62450689]\n",
      " [0.63932662 0.04426995 0.89441504 0.82231725 0.41881323 0.76877962\n",
      "  0.13295672 0.04636591 0.59820786 0.11578081]\n",
      " [0.3541063  0.21721805 0.16905465 0.46902938 0.85495189 0.45590805\n",
      "  0.84033336 0.78077544 0.76760176 0.61712344]\n",
      " [0.67577282 0.49402635 0.6311881  0.6176663  0.08275456 0.05268744\n",
      "  0.91145167 0.68641433 0.77402083 0.38434725]\n",
      " [0.95961525 0.6557375  0.0504038  0.41575028 0.53879064 0.21185323\n",
      "  0.76045907 0.23880851 0.5116452  0.07587839]\n",
      " [0.64231528 0.90650749 0.71373649 0.83638832 0.85033147 0.94714878\n",
      "  0.86197549 0.8360197  0.59284254 0.01624206]\n",
      " [0.33223784 0.33579459 0.99915595 0.83337155 0.71352021 0.10030112\n",
      "  0.0512289  0.52869088 0.98940204 0.61849252]\n",
      " [0.86140388 0.90268643 0.43847151 0.41979334 0.41764309 0.75376832\n",
      "  0.24987198 0.6615898  0.78992006 0.6228776 ]\n",
      " [0.61031153 0.65419781 0.93259628 0.32422613 0.78482692 0.72199057\n",
      "  0.53974716 0.63285335 0.65168992 0.55743398]]\n"
     ]
    }
   ],
   "source": [
<<<<<<< HEAD
    "# Для генерации матриц используем фукнцию random -- она используется для генерации случайных объектов \n",
    "# функция sample создает случайную выборку. В качестве аргумента ей передается кортеж (i,j), здесь i -- число строк,\n",
    "# j -- число столбцов.\n",
    "a = np.random.sample((10,10))\n",
    "b = np.random.sample((10,10))\n",
    "# выведите размерность (ранг) каждой матрицы с помощью функции ndim.\n",
    "# Используйте функцию shape, что она вывела?\n",
    "# ========\n",
    "print(a.ndim)\n",
    "print(b.ndim)\n",
    "print(a.shape[0])\n",
    "# ========\n",
    "print(a)\n",
    "print(b)"
=======
    "a = array([3, 4, 1])\n",
    "a, type(a)"
   ]
  },
  {
   "cell_type": "markdown",
   "metadata": {},
   "source": [
    "`print` печатает массивы в удобной форме."
>>>>>>> e525891784e2326906cf6e64ad701d3a23bfdb24
   ]
  },
  {
   "cell_type": "code",
   "execution_count": 4,
   "metadata": {},
   "outputs": [
    {
     "name": "stdout",
     "output_type": "stream",
     "text": [
      "[[0, 0], [0, 0]]\n"
     ]
    }
   ],
   "source": [
<<<<<<< HEAD
    "def mult(a, b):\n",
    "    # здесь напишите перемножение матриц без \n",
    "    # использования NumPy и выведите результат \n",
    "    s = 0\n",
    "    c = []\n",
    "    d = []\n",
    "    for i in range(a.shape[0]):\n",
    "        for j in range(a.shape[1]):\n",
    "            for k in range(b.shape[1]):\n",
    "                s += a[i][k] * b[k][j]\n",
    "            c.append(s)\n",
    "            s = 0\n",
    "        d.append(c)\n",
    "        c = []\n",
    "    return d\n",
    "\n",
    "\n",
    "a = np.array([[2, -3],\n",
    "              [4, -6]])\n",
    "\n",
    "b = np.array([[9, -6],\n",
    "              [6, -4]])\n",
    "\n",
    "print(mult(a, b))"
=======
    "print(a)"
   ]
  },
  {
   "cell_type": "markdown",
   "metadata": {},
   "source": [
    "Класс `ndarray` имеет много методов."
>>>>>>> e525891784e2326906cf6e64ad701d3a23bfdb24
   ]
  },
  {
   "cell_type": "code",
<<<<<<< HEAD
   "execution_count": 5,
   "metadata": {},
   "outputs": [
    {
     "name": "stdout",
     "output_type": "stream",
     "text": [
      "[[0 0]\n",
      " [0 0]]\n"
     ]
    }
   ],
   "source": [
    "def np_mult(a, b):\n",
    "    # здесь напишите перемножение матриц с\n",
    "    # использованием NumPy и выведите результат\n",
    "    print(np.dot(a, b))\n",
    "\n",
    "np_mult(a, b)"
=======
   "execution_count": null,
   "metadata": {},
   "outputs": [],
   "source": [
    "set(dir(a)) - set(dir(object))"
   ]
  },
  {
   "cell_type": "markdown",
   "metadata": {},
   "source": [
    "Наш массив одномерный."
>>>>>>> e525891784e2326906cf6e64ad701d3a23bfdb24
   ]
  },
  {
   "cell_type": "code",
   "execution_count": 6,
   "metadata": {},
   "outputs": [
    {
     "name": "stdout",
     "output_type": "stream",
     "text": [
      "CPU times: user 53 µs, sys: 9 µs, total: 62 µs\n",
      "Wall time: 69.9 µs\n"
     ]
    },
    {
     "data": {
      "text/plain": [
       "[[0, 0], [0, 0]]"
      ]
     },
     "execution_count": 6,
     "metadata": {},
     "output_type": "execute_result"
    }
   ],
   "source": [
    "a.ndim"
   ]
  },
  {
   "cell_type": "code",
   "execution_count": 7,
   "metadata": {},
   "outputs": [
    {
     "name": "stdout",
     "output_type": "stream",
     "text": [
      "[[0 0]\n",
      " [0 0]]\n",
      "CPU times: user 870 µs, sys: 0 ns, total: 870 µs\n",
      "Wall time: 660 µs\n"
     ]
    }
   ],
   "source": [
    "print(a)"
   ]
  },
  {
   "cell_type": "markdown",
   "metadata": {},
   "source": [
    "В $n$-мерном случае возвращается кортеж размеров по каждой координате.\n",
    "\n",
    "ndarray.ndim — число осей (измерений) массива. Как уже было сказано, в мире Python число измерений часто называют рангом.\n",
    "\n",
    "ndarray.shape — размеры массива, его форма. Это кортеж натуральных чисел, показывающий длину массива по каждой оси. Для матрицы из n строк и m столбов, shape будет (n,m). \n",
    "\n"
   ]
  },
  {
   "cell_type": "code",
   "execution_count": null,
   "metadata": {},
   "outputs": [],
   "source": [
    "a.shape"
   ]
  },
  {
   "cell_type": "code",
   "execution_count": null,
   "metadata": {},
   "outputs": [],
   "source": [
    "len(a), a.size"
   ]
  },
  {
   "cell_type": "markdown",
   "metadata": {},
   "source": [
    "#### Вопрос\n",
    "Как связаны элементы кортежа shape, ndim, size?"
   ]
  },
  {
   "cell_type": "markdown",
   "metadata": {},
   "source": [
    "`numpy` предоставляет несколько типов для целых (`int16`, `int32`, `int64`) и чисел с плавающей точкой (`float32`, `float64`)."
   ]
  },
  {
   "cell_type": "code",
<<<<<<< HEAD
   "execution_count": 6,
   "metadata": {},
   "outputs": [],
   "source": [
    "# функция, решающая задачу без NumPy\n",
    "def stupid_sec_av(A):\n",
    "    # Ваш код здесь\n",
    "    a = []\n",
    "    s = 0\n",
    "    for i in range(1, len(A) + 1):\n",
    "        s += A[i - 1]\n",
    "        a.append(s / i)\n",
    "    return a\n"
=======
   "execution_count": null,
   "metadata": {},
   "outputs": [],
   "source": [
    "a.dtype, a.dtype.name, a.itemsize"
   ]
  },
  {
   "cell_type": "markdown",
   "metadata": {},
   "source": [
    "Массивы - изменяемые объекты, в отличие от кортежей"
>>>>>>> e525891784e2326906cf6e64ad701d3a23bfdb24
   ]
  },
  {
   "cell_type": "code",
   "execution_count": 8,
   "metadata": {},
   "outputs": [
    {
     "name": "stdout",
     "output_type": "stream",
     "text": [
      "[1.0, 1.5, 2.0, 2.5, 3.0]\n",
      "[1.0, 1.5, 2.0, 2.5, 3.0]\n",
      "CPU times: user 95 µs, sys: 51 µs, total: 146 µs\n",
      "Wall time: 151 µs\n",
      "CPU times: user 8 µs, sys: 0 ns, total: 8 µs\n",
      "Wall time: 11 µs\n"
     ]
    },
    {
     "data": {
      "text/plain": [
       "0.0"
      ]
     },
     "execution_count": 8,
     "metadata": {},
     "output_type": "execute_result"
    }
   ],
   "source": [
<<<<<<< HEAD
    "# функция, решающая задачу с помощью NumPy\n",
    "def sec_av(A):\n",
    "    '''a = np.array([A[0], A[1]])\n",
    "    for i in range (2, len(A)):\n",
    "        a = np.resize(a, len(a) + 1)\n",
    "        np.insert(a, i, np.sum(a) / i)\n",
    "        # print(np.sum(a) / (i * 1.0))\n",
    "        print(np.sum(a))\n",
    "    return a\n",
    "    \n",
    "    a = np.array([])\n",
    "    for i in range(1, len(A)):\n",
    "        a = np.resize(a, len(a) + 1)\n",
    "        s = 0\n",
    "        for i in range(1, len(A)):\n",
    "            s += A[i - 1]\n",
    "        np.insert(a, i - 1, s)\n",
    "    return a'''\n",
    "    a, b = [], []\n",
    "    for i in range (len(A)):\n",
    "        b.append(A[i])\n",
    "        a.append(np.mean(b))\n",
    "    return a\n",
    "\n",
    "# зададим некоторую последовательность и проверим ее на ваших функциях. \n",
    "# Первая функция должна работать ~ в 50 раз быстрее\n",
    "# FixMe:\n",
    "# A = sps.uniform.rvs(size=10 ** 7) \n",
    "\n",
    "A = [1, 2, 3, 4, 5]\n",
    "\n",
    "print(stupid_sec_av(A))\n",
    "print(sec_av(A))\n",
    " \n",
    "%time S1 = sec_av(A)\n",
    "%time S2 = stupid_sec_av(A)\n",
    "#проверим корректнось:\n",
    "np.abs(np.array(S1) - np.array(S2)).sum()"
=======
    "a[1] = 3\n",
    "print(a)"
>>>>>>> e525891784e2326906cf6e64ad701d3a23bfdb24
   ]
  },
  {
   "cell_type": "markdown",
   "metadata": {},
   "source": [
    "Массивы, разумеется, можно использовать в `for` циклах. Но при этом теряется главное преимущество `numpy` - быстродействие. Всегда, когда это возможно, лучше использовать операции над массивами как едиными целыми."
   ]
  },
  {
   "cell_type": "code",
<<<<<<< HEAD
   "execution_count": 31,
   "metadata": {},
   "outputs": [],
   "source": [
    "# функция, решающая задачу с помощью NumPy\n",
    "def transformation(X, x = 1):\n",
    "    # Ваш код здесь\n",
    "    a = np.array(X)\n",
    "    \n",
    "     \n",
    "    for i in range(len(X)):\n",
    "        if (i + 1) % 2 == 1:\n",
    "            a[i] = x\n",
    "        else:\n",
    "            a[i] = a[i] ** 3\n",
    "    \n",
    "    X = X[::-1]\n",
    "    \n",
    "    return np.concatenate((a, X))\n"
=======
   "execution_count": null,
   "metadata": {
    "scrolled": true
   },
   "outputs": [],
   "source": [
    "%%time\n",
    "for i in a:\n",
    "    print(i)"
>>>>>>> e525891784e2326906cf6e64ad701d3a23bfdb24
   ]
  },
  {
   "cell_type": "code",
<<<<<<< HEAD
   "execution_count": 39,
   "metadata": {},
   "outputs": [],
   "source": [
    "# функция, решающая задачу  без NumPy\n",
    "def stupid_transformation(X, x = 1):\n",
    "    # Ваш код здесь\n",
    "    a = X.tolist().copy()\n",
    "    \n",
    "    for i in range(len(X)):\n",
    "        if (i + 1) % 2 == 1:\n",
    "            X[i] = x\n",
    "        else:\n",
    "            X[i] = X[i] ** 3\n",
    "    \n",
    "    a.reverse()\n",
    "    \n",
    "    return np.concatenate((X, a))\n"
=======
   "execution_count": null,
   "metadata": {},
   "outputs": [],
   "source": [
    "%%time\n",
    "print(a)"
   ]
  },
  {
   "cell_type": "markdown",
   "metadata": {},
   "source": [
    "Массив чисел с плавающей точкой."
>>>>>>> e525891784e2326906cf6e64ad701d3a23bfdb24
   ]
  },
  {
   "cell_type": "code",
   "execution_count": 41,
   "metadata": {},
   "outputs": [
    {
     "name": "stdout",
     "output_type": "stream",
     "text": [
      "CPU times: user 5.28 s, sys: 63.6 ms, total: 5.34 s\n",
      "Wall time: 5.34 s\n",
      "CPU times: user 5.76 s, sys: 140 ms, total: 5.9 s\n",
      "Wall time: 5.9 s\n"
     ]
    },
    {
     "data": {
      "text/plain": [
       "0.0"
      ]
     },
     "execution_count": 41,
     "metadata": {},
     "output_type": "execute_result"
    }
   ],
   "source": [
<<<<<<< HEAD
    "X = sps.uniform.rvs(size=10 ** 7) \n",
    "# здесь код эффективнее примерно в 20 раз. \n",
    "# если Вы вдруг соберетесь печатать массив без np -- лучше сначала посмотрите на его размер\n",
    "%time S1 = transformation(X)\n",
    "%time S2 = stupid_transformation(X)\n",
    "# проверим корректность:\n",
    "np.abs(np.array(S1) - np.array(S2)).sum()"
=======
    "b = array([0., 2, 1])\n",
    "b.dtype"
>>>>>>> e525891784e2326906cf6e64ad701d3a23bfdb24
   ]
  },
  {
   "cell_type": "markdown",
   "metadata": {},
   "source": [
    "Точно такой же массив."
   ]
  },
  {
<<<<<<< HEAD
   "cell_type": "markdown",
   "metadata": {},
   "source": [
    "# Ваш ответ\n",
    "Если будет массив из 10000 элементов (а в машинке как правило столько и больше), то работа с обычными листами займет очень много времени. Библиотека numpy реализована на С++, а С++ работают быстрее, так как С++ - компилируемый язык и низкоуровневый, а питон - интепретируемый"
=======
   "cell_type": "code",
   "execution_count": null,
   "metadata": {},
   "outputs": [],
   "source": [
    "c = array([0, 2, 1], dtype=float64)\n",
    "print(c)"
>>>>>>> e525891784e2326906cf6e64ad701d3a23bfdb24
   ]
  },
  {
   "cell_type": "markdown",
   "metadata": {},
   "source": [
    "Преобразование данных"
   ]
  },
  {
   "cell_type": "code",
   "execution_count": null,
   "metadata": {},
   "outputs": [],
   "source": [
    "print(c.dtype)\n",
    "print(c.astype(int))\n",
    "print(c.astype(str))"
   ]
  },
  {
   "cell_type": "markdown",
   "metadata": {},
   "source": [
    "Массив, значения которого вычисляются функцией. Функции передаётся массив. Так что в ней можно использовать только такие операции, которые применимы к массивам."
   ]
  },
  {
   "cell_type": "code",
   "execution_count": null,
   "metadata": {},
   "outputs": [],
   "source": [
    "def f(i):\n",
    "    print(i)\n",
    "    return i ** 2\n",
    "\n",
    "a = fromfunction(f, (5,), dtype=int64)\n",
    "print(a)"
   ]
  },
  {
   "cell_type": "code",
   "execution_count": null,
   "metadata": {},
   "outputs": [],
   "source": [
    "a = fromfunction(f, (5,), dtype=float64)\n",
    "print(a)"
   ]
  },
  {
   "cell_type": "markdown",
   "metadata": {},
   "source": [
    "Массивы, заполненные нулями или единицами. Часто лучше сначала создать такой массив, а потом присваивать значения его элементам."
   ]
  },
  {
   "cell_type": "code",
   "execution_count": null,
   "metadata": {},
   "outputs": [],
   "source": [
    "a = zeros(3)\n",
    "print(a)"
   ]
  },
  {
   "cell_type": "code",
   "execution_count": null,
   "metadata": {},
   "outputs": [],
   "source": [
    "b = ones(3, dtype=int64)\n",
    "print(b)"
   ]
  },
  {
   "cell_type": "markdown",
   "metadata": {},
   "source": [
    "Если нужно создать массив, заполненный нулями, длины другого массива, то можно использовать конструкцию"
   ]
  },
  {
   "cell_type": "markdown",
   "metadata": {},
   "source": [
    "Чтобы не писать отдельно включение каждой функции, можно написать сразу:"
   ]
  },
  {
   "cell_type": "code",
   "execution_count": 10,
   "metadata": {},
   "outputs": [],
   "source": [
<<<<<<< HEAD
    "from matplotlib import pyplot as plt\n",
    "from mpl_toolkits.mplot3d import Axes3D\n",
    "%matplotlib inline\n",
    "\n",
    "def f(x, y):\n",
    "    '''Функция двух переменных'''\n",
    "    return np.sin(x) * np.cos(y)\n",
    "\n",
    "def draw_f(grid_x, grid_y):\n",
    "    '''Функция отрисовки функции f(x, y)'''\n",
    "    fig = plt.figure(figsize=(10, 8))\n",
    "    ax = Axes3D(fig)\n",
    "    ax.plot_surface(grid_x, grid_y, f(grid_x, grid_y), cmap='inferno')\n",
    "    plt.show()\n",
    " "
=======
    "import numpy as np"
>>>>>>> e525891784e2326906cf6e64ad701d3a23bfdb24
   ]
  },
  {
   "cell_type": "code",
   "execution_count": 11,
   "metadata": {},
   "outputs": [
    {
     "data": {
      "image/png": "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\n",
      "text/plain": [
       "<matplotlib.figure.Figure at 0x7f02d8d53d68>"
      ]
     },
     "metadata": {},
     "output_type": "display_data"
    }
   ],
   "source": [
<<<<<<< HEAD
    "gridx, gridy = np.meshgrid(np.linspace(0, 2 * np.pi, 1000), np.linspace(0, 2 * np.pi, 1000)) # Ваш код здесь\n",
    "\n",
    "draw_f(gridx, gridy)"
=======
    "np.zeros_like(b)"
   ]
  },
  {
   "cell_type": "markdown",
   "metadata": {},
   "source": [
    "Функция `arange` подобна `range`. Аргументы могут быть с плавающей точкой. Следует избегать ситуаций, когда $(конец-начало)/шаг$ - целое число, потому что в этом случае включение последнего элемента зависит от ошибок округления. Лучше, чтобы конец диапазона был где-то посредине шага."
   ]
  },
  {
   "cell_type": "code",
   "execution_count": null,
   "metadata": {},
   "outputs": [],
   "source": [
    "a = np.arange(0, 9, 2)\n",
    "print(a)"
   ]
  },
  {
   "cell_type": "code",
   "execution_count": null,
   "metadata": {},
   "outputs": [],
   "source": [
    "b = np.arange(0., 9, 2)\n",
    "print(b)"
   ]
  },
  {
   "cell_type": "markdown",
   "metadata": {},
   "source": [
    "Последовательности чисел с постоянным шагом можно также создавать функцией `linspace`. Начало и конец диапазона включаются; последний аргумент - число точек."
   ]
  },
  {
   "cell_type": "code",
   "execution_count": null,
   "metadata": {},
   "outputs": [],
   "source": [
    "a = np.linspace(0, 8, 5)\n",
    "print(a)"
   ]
  },
  {
   "cell_type": "code",
   "execution_count": null,
   "metadata": {},
   "outputs": [],
   "source": [
    "a = np.linspace(0, 0.1, 5)\n",
    "print(a)"
   ]
  },
  {
   "cell_type": "markdown",
   "metadata": {},
   "source": [
    "Массив случайных чисел (из непрерывного равномерного распределения)."
   ]
  },
  {
   "cell_type": "code",
   "execution_count": null,
   "metadata": {},
   "outputs": [],
   "source": [
    "print(np.random.random(5))"
>>>>>>> e525891784e2326906cf6e64ad701d3a23bfdb24
   ]
  },
  {
   "cell_type": "markdown",
   "metadata": {},
   "source": [
    "Случайные числа с нормальным (гауссовым) распределением (среднее `0`, среднеквадратичное отклонение `1`)."
   ]
  },
  {
   "cell_type": "code",
   "execution_count": null,
   "metadata": {},
   "outputs": [],
   "source": [
    "print(np.random.normal(size=5))"
   ]
  },
  {
   "cell_type": "markdown",
   "metadata": {},
   "source": [
    "## Операции над одномерными массивами\n",
    "\n",
    "Арифметические операции проводятся поэлементно."
   ]
  },
  {
   "cell_type": "code",
<<<<<<< HEAD
   "execution_count": 12,
=======
   "execution_count": null,
>>>>>>> e525891784e2326906cf6e64ad701d3a23bfdb24
   "metadata": {},
   "outputs": [],
   "source": [
    "print(a + b)"
   ]
  },
  {
   "cell_type": "code",
   "execution_count": 13,
   "metadata": {},
   "outputs": [
    {
     "data": {
      "text/plain": [
       "<matplotlib.image.AxesImage at 0x7f02d41853c8>"
      ]
     },
     "execution_count": 13,
     "metadata": {},
     "output_type": "execute_result"
    },
    {
     "data": {
      "image/png": "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\n",
      "text/plain": [
       "<matplotlib.figure.Figure at 0x7f02c6f00b38>"
      ]
     },
     "metadata": {},
     "output_type": "display_data"
    }
   ],
   "source": [
<<<<<<< HEAD
    "path_to_image = './dice.png'\n",
    "image_array = plt.imread(path_to_image)\n",
    "plt.imshow(image_array)"
=======
    "print(a - b)"
>>>>>>> e525891784e2326906cf6e64ad701d3a23bfdb24
   ]
  },
  {
   "cell_type": "code",
   "execution_count": 14,
   "metadata": {},
   "outputs": [],
   "source": [
<<<<<<< HEAD
    "flat_image_array = np.asarray(image_array).reshape(-1)"
=======
    "print(a * b)"
>>>>>>> e525891784e2326906cf6e64ad701d3a23bfdb24
   ]
  },
  {
   "cell_type": "code",
<<<<<<< HEAD
   "execution_count": 15,
   "metadata": {},
   "outputs": [
    {
     "name": "stdout",
     "output_type": "stream",
     "text": [
      "1920000\n"
     ]
    }
   ],
   "source": [
    "# здесь выведите размер нового массива\n",
    "print(len(flat_image_array))"
=======
   "execution_count": null,
   "metadata": {},
   "outputs": [],
   "source": [
    "print(a / (b + 1))"
   ]
  },
  {
   "cell_type": "code",
   "execution_count": null,
   "metadata": {},
   "outputs": [],
   "source": [
    "print(a ** 2)"
   ]
  },
  {
   "cell_type": "markdown",
   "metadata": {},
   "source": [
    "Когда операнды разных типов, они пpиводятся к большему типу."
   ]
  },
  {
   "cell_type": "code",
   "execution_count": null,
   "metadata": {},
   "outputs": [],
   "source": [
    "i = np.ones(5, dtype=np.int64)\n",
    "print(a + i)"
   ]
  },
  {
   "cell_type": "markdown",
   "metadata": {},
   "source": [
    "`numpy` содержит элементарные функции, которые тоже применяются к массивам поэлементно. Они называются универсальными функциями (`ufunc`)."
   ]
  },
  {
   "cell_type": "code",
   "execution_count": null,
   "metadata": {},
   "outputs": [],
   "source": [
    "np.sin, type(np.sin)"
   ]
  },
  {
   "cell_type": "code",
   "execution_count": null,
   "metadata": {},
   "outputs": [],
   "source": [
    "print(np.sin(a))\n",
    "print(np.cosh(a))"
   ]
  },
  {
   "cell_type": "markdown",
   "metadata": {},
   "source": [
    "Один из операндов может быть скаляром, а не массивом."
   ]
  },
  {
   "cell_type": "code",
   "execution_count": null,
   "metadata": {},
   "outputs": [],
   "source": [
    "print(a + 1)"
   ]
  },
  {
   "cell_type": "code",
   "execution_count": null,
   "metadata": {},
   "outputs": [],
   "source": [
    "print(2 * a)"
   ]
  },
  {
   "cell_type": "markdown",
   "metadata": {},
   "source": [
    "Сравнения дают булевы массивы."
   ]
  },
  {
   "cell_type": "code",
   "execution_count": null,
   "metadata": {},
   "outputs": [],
   "source": [
    "print(a > b)"
   ]
  },
  {
   "cell_type": "code",
   "execution_count": null,
   "metadata": {},
   "outputs": [],
   "source": [
    "print(a == b)"
   ]
  },
  {
   "cell_type": "code",
   "execution_count": null,
   "metadata": {},
   "outputs": [],
   "source": [
    "c = a > 5\n",
    "print(c)"
   ]
  },
  {
   "cell_type": "markdown",
   "metadata": {},
   "source": [
    "Кванторы \"существует\" и \"для всех\"."
   ]
  },
  {
   "cell_type": "code",
   "execution_count": null,
   "metadata": {},
   "outputs": [],
   "source": [
    "np.any(c), np.all(c)"
   ]
  },
  {
   "cell_type": "markdown",
   "metadata": {},
   "source": [
    "Модификация на месте."
   ]
  },
  {
   "cell_type": "code",
   "execution_count": null,
   "metadata": {},
   "outputs": [],
   "source": [
    "a += 1\n",
    "print(a)"
   ]
  },
  {
   "cell_type": "code",
   "execution_count": null,
   "metadata": {},
   "outputs": [],
   "source": [
    "b *= 2\n",
    "print(b)"
   ]
  },
  {
   "cell_type": "code",
   "execution_count": null,
   "metadata": {},
   "outputs": [],
   "source": [
    "b /= a\n",
    "print(b)"
   ]
  },
  {
   "cell_type": "markdown",
   "metadata": {},
   "source": [
    "При выполнении операций над массивами деление на 0 не возбуждает исключения, а даёт значения `np.nan` или `np.inf`."
   ]
  },
  {
   "cell_type": "code",
   "execution_count": null,
   "metadata": {},
   "outputs": [],
   "source": [
    "np.nan + 1, np.inf + 1, np.inf * 0, 1. / np.inf"
   ]
  },
  {
   "cell_type": "markdown",
   "metadata": {},
   "source": [
    "Сумма и произведение всех элементов массива; максимальный и минимальный элемент; среднее и среднеквадратичное отклонение."
   ]
  },
  {
   "cell_type": "code",
   "execution_count": null,
   "metadata": {},
   "outputs": [],
   "source": [
    "b.sum(), b.prod(), b.max(), b.min(), b.mean(), b.std()"
   ]
  },
  {
   "cell_type": "code",
   "execution_count": null,
   "metadata": {},
   "outputs": [],
   "source": [
    "x = np.random.normal(size=1000)\n",
    "x.mean(), x.std()"
   ]
  },
  {
   "cell_type": "markdown",
   "metadata": {},
   "source": [
    "Имеются встроенные функции"
   ]
  },
  {
   "cell_type": "code",
   "execution_count": null,
   "metadata": {},
   "outputs": [],
   "source": [
    "print(np.sqrt(b))\n",
    "print(np.exp(b))\n",
    "print(np.log(b + 1))\n",
    "print(np.sin(b))\n",
    "print(np.e, np.pi)"
   ]
  },
  {
   "cell_type": "markdown",
   "metadata": {},
   "source": [
    "Иногда бывает нужно использовать частичные (кумулятивные) суммы. В нашем курсе такое пригодится."
   ]
  },
  {
   "cell_type": "code",
   "execution_count": null,
   "metadata": {},
   "outputs": [],
   "source": [
    "print(b.cumsum()[::-1])"
   ]
  },
  {
   "cell_type": "markdown",
   "metadata": {},
   "source": [
    "Функция `sort` возвращает отсортированную копию, метод `sort` сортирует на месте."
   ]
  },
  {
   "cell_type": "code",
   "execution_count": null,
   "metadata": {},
   "outputs": [],
   "source": [
    "print(np.sort(b))\n",
    "print(b)"
   ]
  },
  {
   "cell_type": "code",
   "execution_count": null,
   "metadata": {},
   "outputs": [],
   "source": [
    "b.sort()\n",
    "print(b)"
   ]
  },
  {
   "cell_type": "markdown",
   "metadata": {},
   "source": [
    "Объединение массивов \"по-горизонтали\" (horizontal stack)."
   ]
  },
  {
   "cell_type": "code",
   "execution_count": null,
   "metadata": {},
   "outputs": [],
   "source": [
    "a = np.array([1, 2, 3])\n",
    "b = np.array([100, 200, 300])\n",
    "\n",
    "print(np.hstack((a, b)))"
   ]
  },
  {
   "cell_type": "markdown",
   "metadata": {},
   "source": [
    "Объединение массивов \"по-вертикали\" (vertical stack)."
   ]
  },
  {
   "cell_type": "code",
   "execution_count": null,
   "metadata": {},
   "outputs": [],
   "source": [
    "print(np.vstack((a, b)))"
   ]
  },
  {
   "cell_type": "markdown",
   "metadata": {},
   "source": [
    "Расщепление массива в позициях 3 и 6."
   ]
  },
  {
   "cell_type": "code",
   "execution_count": null,
   "metadata": {},
   "outputs": [],
   "source": [
    "a = np.random.random(10)\n",
    "np.hsplit(a, [3, 6])"
   ]
  },
  {
   "cell_type": "markdown",
   "metadata": {},
   "source": [
    "Функции `delete`, `insert` и `append` не меняют массив на месте, а возвращают новый массив, в котором удалены, вставлены в середину или добавлены в конец какие-то элементы."
   ]
  },
  {
   "cell_type": "code",
   "execution_count": null,
   "metadata": {
    "collapsed": true
   },
   "outputs": [],
   "source": [
    "a = np.arange(10)"
   ]
  },
  {
   "cell_type": "code",
   "execution_count": null,
   "metadata": {},
   "outputs": [],
   "source": [
    "a = np.delete(a, [5, 7])\n",
    "print(a)"
   ]
  },
  {
   "cell_type": "code",
   "execution_count": null,
   "metadata": {},
   "outputs": [],
   "source": [
    "a = np.insert(a, 2, [0, 0])\n",
    "print(a)"
   ]
  },
  {
   "cell_type": "code",
   "execution_count": null,
   "metadata": {},
   "outputs": [],
   "source": [
    "a = np.append(a, [1, 2, 3])\n",
    "print(a)"
   ]
  },
  {
   "cell_type": "markdown",
   "metadata": {},
   "source": [
    "Есть несколько способов индексации массива. Вот обычный индекс."
   ]
  },
  {
   "cell_type": "code",
   "execution_count": null,
   "metadata": {},
   "outputs": [],
   "source": [
    "a = np.linspace(0, 1, 11)\n",
    "print(a)"
   ]
  },
  {
   "cell_type": "code",
   "execution_count": null,
   "metadata": {},
   "outputs": [],
   "source": [
    "b = a[2]\n",
    "print(b)"
   ]
  },
  {
   "cell_type": "markdown",
   "metadata": {},
   "source": [
    "Диапазон индексов. Создаётся новый заголовок массива, указывающий на те же данные. Изменения, сделанные через такой массив, видны и в исходном массиве."
   ]
  },
  {
   "cell_type": "code",
   "execution_count": null,
   "metadata": {},
   "outputs": [],
   "source": [
    "b = a[2:6]\n",
    "print(b)"
   ]
  },
  {
   "cell_type": "code",
   "execution_count": null,
   "metadata": {},
   "outputs": [],
   "source": [
    "b[0] = -0.2\n",
    "print(b)"
   ]
  },
  {
   "cell_type": "code",
   "execution_count": null,
   "metadata": {},
   "outputs": [],
   "source": [
    "print(a)"
   ]
  },
  {
   "cell_type": "markdown",
   "metadata": {},
   "source": [
    "Диапазон с шагом 2."
   ]
  },
  {
   "cell_type": "code",
   "execution_count": null,
   "metadata": {},
   "outputs": [],
   "source": [
    "b = a[1:10:2]\n",
    "print(b)"
   ]
  },
  {
   "cell_type": "code",
   "execution_count": null,
   "metadata": {},
   "outputs": [],
   "source": [
    "b[0] = -0.1\n",
    "print(a)"
   ]
  },
  {
   "cell_type": "markdown",
   "metadata": {},
   "source": [
    "Массив в обратном порядке."
   ]
  },
  {
   "cell_type": "code",
   "execution_count": null,
   "metadata": {},
   "outputs": [],
   "source": [
    "b = a[len(a):0:-1]\n",
    "print(b)"
   ]
  },
  {
   "cell_type": "markdown",
   "metadata": {},
   "source": [
    "Подмассиву можно присвоить значение - массив правильного размера или скаляр."
   ]
  },
  {
   "cell_type": "code",
   "execution_count": null,
   "metadata": {},
   "outputs": [],
   "source": [
    "a[1:10:3] = 0\n",
    "print(a)"
   ]
  },
  {
   "cell_type": "markdown",
   "metadata": {},
   "source": [
    "Тут опять создаётся только новый заголовок, указывающий на те же данные."
   ]
  },
  {
   "cell_type": "code",
   "execution_count": null,
   "metadata": {},
   "outputs": [],
   "source": [
    "b = a[:]\n",
    "b[1] = 0.1\n",
    "print(a)"
   ]
  },
  {
   "cell_type": "markdown",
   "metadata": {},
   "source": [
    "Чтобы скопировать и данные массива, нужно использовать метод `copy`."
   ]
  },
  {
   "cell_type": "code",
   "execution_count": null,
   "metadata": {},
   "outputs": [],
   "source": [
    "b = a.copy()\n",
    "b[2] = 0\n",
    "print(b)\n",
    "print(a)"
   ]
  },
  {
   "cell_type": "markdown",
   "metadata": {},
   "source": [
    "Можно задать список индексов."
   ]
  },
  {
   "cell_type": "code",
   "execution_count": null,
   "metadata": {},
   "outputs": [],
   "source": [
    "print(a[[2, 3, 5]])"
   ]
  },
  {
   "cell_type": "markdown",
   "metadata": {},
   "source": [
    "Можно задать булев массив той же величины."
   ]
  },
  {
   "cell_type": "code",
   "execution_count": null,
   "metadata": {},
   "outputs": [],
   "source": [
    "b = a > 0\n",
    "print(b)"
   ]
  },
  {
   "cell_type": "code",
   "execution_count": null,
   "metadata": {},
   "outputs": [],
   "source": [
    "print(a[b])"
   ]
  },
  {
   "cell_type": "markdown",
   "metadata": {
    "collapsed": true
   },
   "source": [
    "## 2-мерные массивы"
   ]
  },
  {
   "cell_type": "code",
   "execution_count": null,
   "metadata": {},
   "outputs": [],
   "source": [
    "a = np.array([[0.0, 1.0], [-1.0, 0.0]])\n",
    "print(a)"
   ]
  },
  {
   "cell_type": "code",
   "execution_count": null,
   "metadata": {},
   "outputs": [],
   "source": [
    "a.ndim"
   ]
  },
  {
   "cell_type": "code",
   "execution_count": null,
   "metadata": {},
   "outputs": [],
   "source": [
    "a.shape"
   ]
  },
  {
   "cell_type": "code",
   "execution_count": null,
   "metadata": {},
   "outputs": [],
   "source": [
    "len(a), a.size"
   ]
  },
  {
   "cell_type": "code",
   "execution_count": null,
   "metadata": {},
   "outputs": [],
   "source": [
    "a[1, 0]"
   ]
  },
  {
   "cell_type": "markdown",
   "metadata": {},
   "source": [
    "Атрибуту `shape` можно присвоить новое значение - кортеж размеров по всем координатам. Получится новый заголовок массива; его данные не изменятся."
   ]
  },
  {
   "cell_type": "code",
   "execution_count": null,
   "metadata": {},
   "outputs": [],
   "source": [
    "b = np.linspace(0, 3, 4)\n",
    "print(b)"
   ]
  },
  {
   "cell_type": "code",
   "execution_count": null,
   "metadata": {},
   "outputs": [],
   "source": [
    "b.shape"
   ]
  },
  {
   "cell_type": "code",
   "execution_count": null,
   "metadata": {},
   "outputs": [],
   "source": [
    "b.shape = 2, 2\n",
    "print(b)"
   ]
  },
  {
   "cell_type": "markdown",
   "metadata": {},
   "source": [
    "Можно растянуть в одномерный массив"
   ]
  },
  {
   "cell_type": "code",
   "execution_count": null,
   "metadata": {},
   "outputs": [],
   "source": [
    "print(b.ravel())"
   ]
  },
  {
   "cell_type": "markdown",
   "metadata": {},
   "source": [
    "Арифметические операции поэлементные"
   ]
  },
  {
   "cell_type": "code",
   "execution_count": null,
   "metadata": {},
   "outputs": [],
   "source": [
    "print(a + 1)\n",
    "print(a * 2)\n",
    "print(a + [0, 1])  # второе слагаемое дополняется до матрицы копированием строк\n",
    "print(a + np.array([[0, 2]]).T)  # .T - транспонирование\n",
    "print(a + b)"
   ]
  },
  {
   "cell_type": "markdown",
   "metadata": {},
   "source": [
    "Поэлементное и матричное (только в Python 3.5) умножение."
   ]
  },
  {
   "cell_type": "code",
   "execution_count": null,
   "metadata": {},
   "outputs": [],
   "source": [
    "print(a * b)"
   ]
  },
  {
   "cell_type": "code",
   "execution_count": null,
   "metadata": {},
   "outputs": [],
   "source": [
    "print(a @ b)"
   ]
  },
  {
   "cell_type": "code",
   "execution_count": null,
   "metadata": {},
   "outputs": [],
   "source": [
    "print(b @ a)"
   ]
  },
  {
   "cell_type": "markdown",
   "metadata": {},
   "source": [
    "Умножение матрицы на вектор."
   ]
  },
  {
   "cell_type": "code",
   "execution_count": null,
   "metadata": {},
   "outputs": [],
   "source": [
    "v = np.array([1, -1], dtype=np.float64)\n",
    "print(b @ v)"
   ]
  },
  {
   "cell_type": "code",
   "execution_count": null,
   "metadata": {},
   "outputs": [],
   "source": [
    "print(v @ b)"
   ]
  },
  {
   "cell_type": "markdown",
   "metadata": {},
   "source": [
    "Если у вас Питон более ранней версии, то для работы с матрицами можно использовать класс `np.matrix`, в котором операция умножения реализуется как матричное умножение."
   ]
  },
  {
   "cell_type": "code",
   "execution_count": null,
   "metadata": {},
   "outputs": [],
   "source": [
    "np.matrix(a) * np.matrix(b)"
   ]
  },
  {
   "cell_type": "markdown",
   "metadata": {},
   "source": [
    "Внешнее произведение $a_{ij}=u_i v_j$"
   ]
  },
  {
   "cell_type": "code",
   "execution_count": null,
   "metadata": {},
   "outputs": [],
   "source": [
    "u = np.linspace(1, 2, 2)\n",
    "v = np.linspace(2, 4, 3)\n",
    "print(u)\n",
    "print(v)"
   ]
  },
  {
   "cell_type": "code",
   "execution_count": null,
   "metadata": {},
   "outputs": [],
   "source": [
    "a = np.outer(u, v)\n",
    "print(a)"
   ]
  },
  {
   "cell_type": "markdown",
   "metadata": {},
   "source": [
    "Двумерные массивы, зависящие только от одного индекса: $x_{ij}=u_j$, $y_{ij}=v_i$"
   ]
  },
  {
   "cell_type": "code",
   "execution_count": null,
   "metadata": {},
   "outputs": [],
   "source": [
    "x, y = np.meshgrid(u, v)\n",
    "print(x)\n",
    "print(y)"
   ]
  },
  {
   "cell_type": "markdown",
   "metadata": {},
   "source": [
    "Единичная матрица."
   ]
  },
  {
   "cell_type": "code",
   "execution_count": null,
   "metadata": {},
   "outputs": [],
   "source": [
    "I = np.eye(4)\n",
    "print(I)"
   ]
  },
  {
   "cell_type": "markdown",
   "metadata": {},
   "source": [
    "Метод `reshape` делает то же самое, что присваивание атрибуту `shape`."
   ]
  },
  {
   "cell_type": "code",
   "execution_count": null,
   "metadata": {},
   "outputs": [],
   "source": [
    "print(I.reshape(16))"
   ]
  },
  {
   "cell_type": "code",
   "execution_count": null,
   "metadata": {},
   "outputs": [],
   "source": [
    "print(I.reshape(2, 8))"
   ]
  },
  {
   "cell_type": "markdown",
   "metadata": {},
   "source": [
    "Строка."
   ]
  },
  {
   "cell_type": "code",
   "execution_count": null,
   "metadata": {},
   "outputs": [],
   "source": [
    "print(I[1])"
   ]
  },
  {
   "cell_type": "markdown",
   "metadata": {},
   "source": [
    "Цикл по строкам."
   ]
  },
  {
   "cell_type": "code",
   "execution_count": null,
   "metadata": {},
   "outputs": [],
   "source": [
    "for row in I:\n",
    "    print(row)"
   ]
  },
  {
   "cell_type": "markdown",
   "metadata": {},
   "source": [
    "Столбец."
   ]
  },
  {
   "cell_type": "code",
   "execution_count": null,
   "metadata": {},
   "outputs": [],
   "source": [
    "print(I[:, 2])"
   ]
  },
  {
   "cell_type": "markdown",
   "metadata": {},
   "source": [
    "Подматрица."
   ]
  },
  {
   "cell_type": "code",
   "execution_count": null,
   "metadata": {},
   "outputs": [],
   "source": [
    "print(I[0:2, 1:3])"
   ]
  },
  {
   "cell_type": "markdown",
   "metadata": {},
   "source": [
    "Можно построить двумерный массив из функции."
   ]
  },
  {
   "cell_type": "code",
   "execution_count": null,
   "metadata": {},
   "outputs": [],
   "source": [
    "def f(i, j):\n",
    "    print(i)\n",
    "    print(j)\n",
    "    return 10 * i + j\n",
    "\n",
    "print(np.fromfunction(f, (4, 4), dtype=np.int64))"
   ]
  },
  {
   "cell_type": "markdown",
   "metadata": {},
   "source": [
    "Транспонированная матрица."
   ]
  },
  {
   "cell_type": "code",
   "execution_count": null,
   "metadata": {},
   "outputs": [],
   "source": [
    "print(b.T)"
   ]
  },
  {
   "cell_type": "markdown",
   "metadata": {},
   "source": [
    "Соединение матриц по горизонтали и по вертикали."
   ]
  },
  {
   "cell_type": "code",
   "execution_count": null,
   "metadata": {},
   "outputs": [],
   "source": [
    "a = np.array([[0, 1], [2, 3]])\n",
    "b = np.array([[4, 5, 6], [7, 8, 9]])\n",
    "c = np.array([[4, 5], [6, 7], [8, 9]])\n",
    "print(a)\n",
    "print(b)\n",
    "print(c)"
   ]
  },
  {
   "cell_type": "code",
   "execution_count": null,
   "metadata": {},
   "outputs": [],
   "source": [
    "print(np.hstack((a, b)))"
   ]
  },
  {
   "cell_type": "code",
   "execution_count": null,
   "metadata": {},
   "outputs": [],
   "source": [
    "print(np.vstack((a, c)))"
   ]
  },
  {
   "cell_type": "markdown",
   "metadata": {},
   "source": [
    "Сумма всех элементов; суммы столбцов; суммы строк."
   ]
  },
  {
   "cell_type": "code",
   "execution_count": null,
   "metadata": {},
   "outputs": [],
   "source": [
    "print(b.sum())\n",
    "print(b.sum(axis=0))\n",
    "print(b.sum(axis=1))"
   ]
  },
  {
   "cell_type": "markdown",
   "metadata": {},
   "source": [
    "Аналогично работают `prod`, `max`, `min` и т.д."
   ]
  },
  {
   "cell_type": "code",
   "execution_count": null,
   "metadata": {},
   "outputs": [],
   "source": [
    "print(b.max())\n",
    "print(b.max(axis=0))\n",
    "print(b.min(axis=1))"
   ]
  },
  {
   "cell_type": "markdown",
   "metadata": {},
   "source": [
    "След - сумма диагональных элементов."
   ]
  },
  {
   "cell_type": "code",
   "execution_count": null,
   "metadata": {},
   "outputs": [],
   "source": [
    "np.trace(a)"
   ]
  },
  {
   "cell_type": "markdown",
   "metadata": {},
   "source": [
    "## Многомерные массивы\n",
    "опциональный материал"
   ]
  },
  {
   "cell_type": "code",
   "execution_count": null,
   "metadata": {},
   "outputs": [],
   "source": [
    "X = np.arange(24).reshape(2, 3, 4)\n",
    "print(X)"
   ]
  },
  {
   "cell_type": "markdown",
   "metadata": {},
   "source": [
    "Суммирование (аналогично остальные операции)"
   ]
  },
  {
   "cell_type": "code",
   "execution_count": null,
   "metadata": {},
   "outputs": [],
   "source": [
    "# суммируем только по нулевой оси, то есть для фиксированных j и k суммируем только элементы с индексами (*, j, k)\n",
    "print(X.sum(axis=0))\n",
    "# суммируем сразу по двум осям, то есть для фиксированной i суммируем только элементы с индексами (i, *, *)\n",
    "print(X.sum(axis=(1, 2)))"
   ]
  },
  {
   "cell_type": "markdown",
   "metadata": {},
   "source": [
    "## Линейная алгебра"
   ]
  },
  {
   "cell_type": "code",
   "execution_count": null,
   "metadata": {},
   "outputs": [],
   "source": [
    "np.linalg.det(a)"
   ]
  },
  {
   "cell_type": "markdown",
   "metadata": {},
   "source": [
    "Обратная матрица."
   ]
  },
  {
   "cell_type": "code",
   "execution_count": null,
   "metadata": {},
   "outputs": [],
   "source": [
    "a1 = np.linalg.inv(a)\n",
    "print(a1)"
   ]
  },
  {
   "cell_type": "code",
   "execution_count": null,
   "metadata": {},
   "outputs": [],
   "source": [
    "print(a @ a1)\n",
    "print(a1 @ a)"
   ]
  },
  {
   "cell_type": "markdown",
   "metadata": {},
   "source": [
    "Решение линейной системы $au=v$."
   ]
  },
  {
   "cell_type": "code",
   "execution_count": null,
   "metadata": {},
   "outputs": [],
   "source": [
    "v = np.array([0, 1], dtype=np.float64)\n",
    "print(a1 @ v)"
   ]
  },
  {
   "cell_type": "code",
   "execution_count": null,
   "metadata": {},
   "outputs": [],
   "source": [
    "u = np.linalg.solve(a, v)\n",
    "print(u)"
   ]
  },
  {
   "cell_type": "markdown",
   "metadata": {},
   "source": [
    "Проверим."
   ]
  },
  {
   "cell_type": "code",
   "execution_count": null,
   "metadata": {},
   "outputs": [],
   "source": [
    "print(a @ u - v)"
   ]
  },
  {
   "cell_type": "markdown",
   "metadata": {},
   "source": [
    "Собственные значения и собственные векторы: $a u_i = \\lambda_i u_i$. `l` - одномерный массив собственных значений $\\lambda_i$, столбцы матрицы $u$ - собственные векторы $u_i$."
   ]
  },
  {
   "cell_type": "code",
   "execution_count": null,
   "metadata": {},
   "outputs": [],
   "source": [
    "l, u = np.linalg.eig(a)\n",
    "print(l)"
   ]
  },
  {
   "cell_type": "code",
   "execution_count": null,
   "metadata": {},
   "outputs": [],
   "source": [
    "print(u)"
   ]
  },
  {
   "cell_type": "markdown",
   "metadata": {},
   "source": [
    "Проверим."
   ]
  },
  {
   "cell_type": "code",
   "execution_count": null,
   "metadata": {},
   "outputs": [],
   "source": [
    "for i in range(2):\n",
    "    print(a @ u[:, i] - l[i] * u[:, i])"
   ]
  },
  {
   "cell_type": "markdown",
   "metadata": {},
   "source": [
    "Функция `diag` от одномерного массива строит диагональную матрицу; от квадратной матрицы - возвращает одномерный массив её диагональных элементов."
   ]
  },
  {
   "cell_type": "code",
   "execution_count": null,
   "metadata": {},
   "outputs": [],
   "source": [
    "L = np.diag(l)\n",
    "print(L)\n",
    "print(np.diag(L))"
   ]
  },
  {
   "cell_type": "markdown",
   "metadata": {},
   "source": [
    "Все уравнения $a u_i = \\lambda_i u_i$ можно собрать в одно матричное уравнение $a u = u \\Lambda$, где $\\Lambda$ - диагональная матрица с собственными значениями $\\lambda_i$ на диагонали."
   ]
  },
  {
   "cell_type": "code",
   "execution_count": null,
   "metadata": {},
   "outputs": [],
   "source": [
    "print(a @ u - u @ L)"
   ]
  },
  {
   "cell_type": "markdown",
   "metadata": {},
   "source": [
    "Поэтому $u^{-1} a u = \\Lambda$."
   ]
  },
  {
   "cell_type": "code",
   "execution_count": null,
   "metadata": {},
   "outputs": [],
   "source": [
    "print(np.linalg.inv(u) @ a @ u)"
   ]
  },
  {
   "cell_type": "markdown",
   "metadata": {},
   "source": [
    "Найдём теперь левые собственные векторы $v_i a = \\lambda_i v_i$ (собственные значения $\\lambda_i$ те же самые)."
   ]
  },
  {
   "cell_type": "code",
   "execution_count": null,
   "metadata": {},
   "outputs": [],
   "source": [
    "l, v = np.linalg.eig(a.T)\n",
    "print(l)\n",
    "print(v)"
   ]
  },
  {
   "cell_type": "markdown",
   "metadata": {},
   "source": [
    "Собственные векторы нормированы на 1."
   ]
  },
  {
   "cell_type": "code",
   "execution_count": null,
   "metadata": {},
   "outputs": [],
   "source": [
    "print(u.T @ u)\n",
    "print(v.T @ v)"
   ]
  },
  {
   "cell_type": "markdown",
   "metadata": {},
   "source": [
    "Левые и правые собственные векторы, соответствующие разным собственным значениям, ортогональны, потому что $v_i a u_j = \\lambda_i v_i u_j = \\lambda_j v_i u_j$."
   ]
  },
  {
   "cell_type": "code",
   "execution_count": null,
   "metadata": {},
   "outputs": [],
   "source": [
    "print(v.T @ u)"
   ]
  },
  {
   "cell_type": "markdown",
   "metadata": {},
   "source": [
    "# Интегрирование"
   ]
  },
  {
   "cell_type": "code",
   "execution_count": null,
   "metadata": {
    "collapsed": true
   },
   "outputs": [],
   "source": [
    "from scipy.integrate import quad, odeint\n",
    "from scipy.special import erf"
   ]
  },
  {
   "cell_type": "code",
   "execution_count": null,
   "metadata": {
    "collapsed": true
   },
   "outputs": [],
   "source": [
    "def f(x):\n",
    "    return np.exp(-x ** 2)"
   ]
  },
  {
   "cell_type": "markdown",
   "metadata": {},
   "source": [
    "Адаптивное численное интегрирование (может быть до бесконечности). `err` - оценка ошибки."
   ]
  },
  {
   "cell_type": "code",
   "execution_count": null,
   "metadata": {},
   "outputs": [],
   "source": [
    "res, err = quad(f, 0, np.inf)\n",
    "print(np.sqrt(np.pi) / 2, res, err)"
   ]
  },
  {
   "cell_type": "code",
   "execution_count": null,
   "metadata": {},
   "outputs": [],
   "source": [
    "res, err =  quad(f, 0, 1)\n",
    "print(np.sqrt(np.pi) / 2 * erf(1), res, err)"
   ]
  },
  {
   "cell_type": "markdown",
   "metadata": {},
   "source": [
    "## Сохранение в файл и чтение из файла"
   ]
  },
  {
   "cell_type": "code",
   "execution_count": null,
   "metadata": {
    "collapsed": true
   },
   "outputs": [],
   "source": [
    "x = np.arange(0, 25, 0.5).reshape((5, 10))\n",
    "\n",
    "# Сохраняем в файл example.txt данные x в формате с двумя точками после запятой и разделителем ';'\n",
    "np.savetxt('example.txt', x, fmt='%.2f', delimiter=';')"
   ]
  },
  {
   "cell_type": "markdown",
   "metadata": {},
   "source": [
    "Получится такой файл"
   ]
  },
  {
   "cell_type": "code",
   "execution_count": null,
   "metadata": {},
   "outputs": [],
   "source": [
    "!cat example.txt"
>>>>>>> e525891784e2326906cf6e64ad701d3a23bfdb24
   ]
  }
 ],
 "metadata": {
  "kernelspec": {
   "display_name": "Python 3",
   "language": "python",
   "name": "python3"
  },
  "language_info": {
   "codemirror_mode": {
    "name": "ipython",
    "version": 3
   },
   "file_extension": ".py",
   "mimetype": "text/x-python",
   "name": "python",
   "nbconvert_exporter": "python",
   "pygments_lexer": "ipython3",
   "version": "3.5.2"
  }
 },
 "nbformat": 4,
 "nbformat_minor": 1
}
